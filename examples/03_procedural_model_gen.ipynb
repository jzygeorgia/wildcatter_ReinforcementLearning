{
 "cells": [
  {
   "cell_type": "code",
   "execution_count": 1,
   "metadata": {
    "pycharm": {
     "name": "#%%\n"
    }
   },
   "outputs": [],
   "source": [
    "from __future__ import annotations\n",
    "import numpy as np\n",
    "from dataclasses import dataclass\n",
    "import matplotlib.pyplot as plt"
   ]
  },
  {
   "cell_type": "code",
   "execution_count": 2,
   "metadata": {
    "pycharm": {
     "name": "#%%\n"
    }
   },
   "outputs": [],
   "source": [
    "width = 250"
   ]
  },
  {
   "cell_type": "code",
   "execution_count": 3,
   "metadata": {
    "pycharm": {
     "name": "#%%\n"
    }
   },
   "outputs": [
    {
     "data": {
      "text/plain": [
       "<matplotlib.image.AxesImage at 0x7f3997e78d60>"
      ]
     },
     "execution_count": 3,
     "metadata": {},
     "output_type": "execute_result"
    },
    {
     "data": {
      "image/png": "[encoded data removed]",
      "text/plain": [
       "<Figure size 640x480 with 1 Axes>"
      ]
     },
     "metadata": {},
     "output_type": "display_data"
    }
   ],
   "source": [
    "@dataclass\n",
    "class Grid2D:\n",
    "    x_size: int\n",
    "    z_size: int\n",
    "    x_step: int\n",
    "    z_step: int\n",
    "\n",
    "    def __post_init__(self):\n",
    "        self.x_max = self.x_size * self.x_step\n",
    "        self.z_max = self.z_size * self.z_step\n",
    "\n",
    "        self.x = np.arange(0, self.x_max, self.x_step)\n",
    "        self.z = np.arange(0, self.z_max, self.z_step)\n",
    "\n",
    "\n",
    "grid = Grid2D(500, 360, 5, 5)\n",
    "\n",
    "\n",
    "def generate_layercake(\n",
    "    grid, init_vel, init_vel_std, incr_vel, incr_vel_std, max_vel=4000, rng=None\n",
    "):\n",
    "    if rng is None:\n",
    "        rng = np.random.default_rng(None)\n",
    "\n",
    "    dz_per_layer = 200 // grid.z_step\n",
    "    layer_shape = (dz_per_layer, grid.x_size)\n",
    "\n",
    "    perturb = rng.uniform(-init_vel_std, init_vel_std)\n",
    "    init_layer_vel = init_vel + perturb\n",
    "\n",
    "    init_layer = np.empty(layer_shape, dtype=\"float64\")\n",
    "    init_layer.fill(init_layer_vel)\n",
    "\n",
    "    layers = [init_layer]\n",
    "    for idx in range(8):\n",
    "        prev_layer_vel = layers[idx][0][0]\n",
    "\n",
    "        perturb = rng.uniform(-incr_vel_std, incr_vel_std)\n",
    "        new_layer_vel = prev_layer_vel + incr_vel + perturb\n",
    "\n",
    "        if new_layer_vel > max_vel:\n",
    "            new_layer_vel = max_vel\n",
    "\n",
    "        new_layer = np.empty(layer_shape, dtype=\"float64\")\n",
    "        new_layer.fill(new_layer_vel)\n",
    "\n",
    "        layers.append(new_layer)\n",
    "\n",
    "    layers = np.vstack(layers)\n",
    "\n",
    "    assert layers.shape[0] == grid.z_size\n",
    "\n",
    "    return layers\n",
    "\n",
    "\n",
    "layercake = generate_layercake(grid, 1500, 150, 190, 380)\n",
    "plt.imshow(layercake)"
   ]
  },
  {
   "cell_type": "code",
   "execution_count": null,
   "metadata": {
    "pycharm": {
     "name": "#%%\n"
    }
   },
   "outputs": [],
   "source": []
  }
 ],
 "metadata": {
  "kernelspec": {
   "display_name": "Python 3 (ipykernel)",
   "language": "python",
   "name": "python3"
  },
  "language_info": {
   "codemirror_mode": {
    "name": "ipython",
    "version": 3
   },
   "file_extension": ".py",
   "mimetype": "text/x-python",
   "name": "python",
   "nbconvert_exporter": "python",
   "pygments_lexer": "ipython3",
   "version": "3.9.12"
  }
 },
 "nbformat": 4,
 "nbformat_minor": 1
}
